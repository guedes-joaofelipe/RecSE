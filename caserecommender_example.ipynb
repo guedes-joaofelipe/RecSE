{
 "cells": [
  {
   "cell_type": "markdown",
   "metadata": {},
   "source": [
    "# Minicurso Recomendação - SE/UFRJ\n",
    "\n",
    "Este notebook contém um exemplo prático de recomendação de filmes utilizando o dataset _Movie Lens 100k_. As recomendações são realizadas utilizando a biblioteca _CaseRecommender_. \n",
    "\n",
    "## Imports"
   ]
  },
  {
   "cell_type": "code",
   "execution_count": 15,
   "metadata": {},
   "outputs": [],
   "source": [
    "from caserec.recommenders.rating_prediction.itemknn import ItemKNN\n",
    "from sklearn.model_selection import train_test_split\n",
    "import matplotlib.pyplot as plt \n",
    "import pandas as pd\n",
    "import numpy as np"
   ]
  },
  {
   "cell_type": "markdown",
   "metadata": {},
   "source": [
    "## Carregando Dados\n",
    "\n",
    "Os dados estão contidos na pasta `./dataset/ml-100k` e os arquivos a serem utilizados é o `u.data`, que contém informações do ID do usuário, ID do item e a nota que o usuário deu ao item. \n",
    "\n",
    "Além disso, o arquivo `u.info` é utilizado para extrair as informações do filme (Título e ID)."
   ]
  },
  {
   "cell_type": "code",
   "execution_count": 2,
   "metadata": {},
   "outputs": [
    {
     "data": {
      "text/html": [
       "<div>\n",
       "<style scoped>\n",
       "    .dataframe tbody tr th:only-of-type {\n",
       "        vertical-align: middle;\n",
       "    }\n",
       "\n",
       "    .dataframe tbody tr th {\n",
       "        vertical-align: top;\n",
       "    }\n",
       "\n",
       "    .dataframe thead th {\n",
       "        text-align: right;\n",
       "    }\n",
       "</style>\n",
       "<table border=\"1\" class=\"dataframe\">\n",
       "  <thead>\n",
       "    <tr style=\"text-align: right;\">\n",
       "      <th></th>\n",
       "      <th>user</th>\n",
       "      <th>item</th>\n",
       "      <th>feedback_value</th>\n",
       "    </tr>\n",
       "  </thead>\n",
       "  <tbody>\n",
       "    <tr>\n",
       "      <th>0</th>\n",
       "      <td>186</td>\n",
       "      <td>302</td>\n",
       "      <td>3</td>\n",
       "    </tr>\n",
       "    <tr>\n",
       "      <th>1</th>\n",
       "      <td>22</td>\n",
       "      <td>377</td>\n",
       "      <td>1</td>\n",
       "    </tr>\n",
       "    <tr>\n",
       "      <th>2</th>\n",
       "      <td>244</td>\n",
       "      <td>51</td>\n",
       "      <td>2</td>\n",
       "    </tr>\n",
       "    <tr>\n",
       "      <th>3</th>\n",
       "      <td>166</td>\n",
       "      <td>346</td>\n",
       "      <td>1</td>\n",
       "    </tr>\n",
       "    <tr>\n",
       "      <th>4</th>\n",
       "      <td>298</td>\n",
       "      <td>474</td>\n",
       "      <td>4</td>\n",
       "    </tr>\n",
       "  </tbody>\n",
       "</table>\n",
       "</div>"
      ],
      "text/plain": [
       "   user  item  feedback_value\n",
       "0   186   302               3\n",
       "1    22   377               1\n",
       "2   244    51               2\n",
       "3   166   346               1\n",
       "4   298   474               4"
      ]
     },
     "execution_count": 2,
     "metadata": {},
     "output_type": "execute_result"
    }
   ],
   "source": [
    "df_ratings = pd.read_csv('./dataset/ml-100k/u.data', sep='\\t') # Carrega arquivo com dados\n",
    "df_ratings.columns = ['user', 'item', 'feedback_value', 'timestamp'] # Inserindo nome das colunas\n",
    "df_ratings.drop(['timestamp'], axis=1, inplace=True) # Retirando coluna de timestamp\n",
    "df_ratings.head()"
   ]
  },
  {
   "cell_type": "code",
   "execution_count": 3,
   "metadata": {},
   "outputs": [
    {
     "data": {
      "text/html": [
       "<div>\n",
       "<style scoped>\n",
       "    .dataframe tbody tr th:only-of-type {\n",
       "        vertical-align: middle;\n",
       "    }\n",
       "\n",
       "    .dataframe tbody tr th {\n",
       "        vertical-align: top;\n",
       "    }\n",
       "\n",
       "    .dataframe thead th {\n",
       "        text-align: right;\n",
       "    }\n",
       "</style>\n",
       "<table border=\"1\" class=\"dataframe\">\n",
       "  <thead>\n",
       "    <tr style=\"text-align: right;\">\n",
       "      <th></th>\n",
       "      <th>item</th>\n",
       "      <th>title</th>\n",
       "    </tr>\n",
       "  </thead>\n",
       "  <tbody>\n",
       "    <tr>\n",
       "      <th>0</th>\n",
       "      <td>1</td>\n",
       "      <td>Toy Story (1995)</td>\n",
       "    </tr>\n",
       "    <tr>\n",
       "      <th>1</th>\n",
       "      <td>2</td>\n",
       "      <td>GoldenEye (1995)</td>\n",
       "    </tr>\n",
       "    <tr>\n",
       "      <th>2</th>\n",
       "      <td>3</td>\n",
       "      <td>Four Rooms (1995)</td>\n",
       "    </tr>\n",
       "    <tr>\n",
       "      <th>3</th>\n",
       "      <td>4</td>\n",
       "      <td>Get Shorty (1995)</td>\n",
       "    </tr>\n",
       "    <tr>\n",
       "      <th>4</th>\n",
       "      <td>5</td>\n",
       "      <td>Copycat (1995)</td>\n",
       "    </tr>\n",
       "  </tbody>\n",
       "</table>\n",
       "</div>"
      ],
      "text/plain": [
       "   item              title\n",
       "0     1   Toy Story (1995)\n",
       "1     2   GoldenEye (1995)\n",
       "2     3  Four Rooms (1995)\n",
       "3     4  Get Shorty (1995)\n",
       "4     5     Copycat (1995)"
      ]
     },
     "execution_count": 3,
     "metadata": {},
     "output_type": "execute_result"
    }
   ],
   "source": [
    "df_info = pd.read_csv('./dataset/ml-100k/u.item', sep='|', encoding = \"ISO-8859-1\", header=None) # Carrega arquivo com dados\n",
    "df_info = df_info[[0, 1]].copy()\n",
    "df_info.columns = ['item', 'title']\n",
    "df_info.head()"
   ]
  },
  {
   "cell_type": "markdown",
   "metadata": {},
   "source": [
    "## Separando dados em treinamento e teste"
   ]
  },
  {
   "cell_type": "code",
   "execution_count": 22,
   "metadata": {},
   "outputs": [],
   "source": [
    "train_file, test_file = './outputs/train_file.dat', './outputs/test_file.dat' \n",
    "# Salvando dados em arquivo\n",
    "df_train, df_test = train_test_split(df_ratings, test_size=0.3) \n",
    "# Salvando dados em arquivo\n",
    "df_train.to_csv(train_file, sep=' ', index=None, header=None) \n",
    "df_test.to_csv(test_file, sep=' ', index=None, header=None)"
   ]
  },
  {
   "cell_type": "markdown",
   "metadata": {},
   "source": [
    "## Treinando modelo\n",
    "\n",
    "Treinaremos o modelo ItemKNN que agrupa os itens através de uma distância de similaridade a partir das notas que os usuários deram. "
   ]
  },
  {
   "cell_type": "code",
   "execution_count": 23,
   "metadata": {},
   "outputs": [],
   "source": [
    "predictions_output_filepath = './outputs/predictions.dat'\n",
    "model = ItemKNN(train_file=train_file, \n",
    "                test_file=test_file, \n",
    "                k_neighbors=30, \n",
    "                sep=' ', \n",
    "                output_file = predictions_output_filepath)"
   ]
  },
  {
   "cell_type": "code",
   "execution_count": 24,
   "metadata": {},
   "outputs": [
    {
     "name": "stdout",
     "output_type": "stream",
     "text": [
      "[Case Recommender: Rating Prediction > ItemKNN Algorithm]\n",
      "\n",
      "train data:: 943 users and 1628 items (69999 interactions) | sparsity:: 95.44%\n",
      "test data:: 943 users and 1497 items (30000 interactions) | sparsity:: 97.87%\n",
      "\n",
      "training_time:: 5.840271 sec\n",
      "prediction_time:: 14.413704 sec\n",
      "Eval:: MAE: 0.802951 RMSE: 1.037347 \n",
      "CPU times: user 29 s, sys: 144 ms, total: 29.1 s\n",
      "Wall time: 29 s\n"
     ]
    }
   ],
   "source": [
    "%%time\n",
    "model.compute(verbose=True)"
   ]
  },
  {
   "cell_type": "markdown",
   "metadata": {},
   "source": [
    "\\begin{equation*}\n",
    "    MAE = \\frac{1}{N} \\sum_{i = 0}^{N} |y-\\hat{y}|\n",
    "\\end{equation*} \n",
    "\n",
    "\\begin{equation*}\n",
    "    RMSE = \\sqrt{\\sum_{i = 0}^{N} \\frac{1}{N} (y-\\hat{y})^2}\n",
    "\\end{equation*}\n",
    "onde $y$ é a nota original, $\\hat{y}$ é o valor previsto e $N$ é o número de notas não nulas no conjunto de dados inicial. "
   ]
  },
  {
   "cell_type": "code",
   "execution_count": 25,
   "metadata": {},
   "outputs": [
    {
     "data": {
      "text/plain": [
       "array([[5., 3., 4., ..., 0., 0., 0.],\n",
       "       [4., 0., 0., ..., 0., 0., 0.],\n",
       "       [0., 0., 0., ..., 0., 0., 0.],\n",
       "       ...,\n",
       "       [5., 0., 0., ..., 0., 0., 0.],\n",
       "       [0., 0., 0., ..., 0., 0., 0.],\n",
       "       [0., 0., 0., ..., 0., 0., 0.]])"
      ]
     },
     "execution_count": 25,
     "metadata": {},
     "output_type": "execute_result"
    }
   ],
   "source": [
    "model.matrix"
   ]
  },
  {
   "cell_type": "markdown",
   "metadata": {},
   "source": [
    "## Visualização da Esparsidade dos Dados"
   ]
  },
  {
   "cell_type": "code",
   "execution_count": 8,
   "metadata": {},
   "outputs": [
    {
     "data": {
      "text/plain": [
       "(Text(0.5, 1.05, 'Sparsity'), Text(0, 0.5, 'Items'), Text(0.5, 0, 'Users'))"
      ]
     },
     "execution_count": 8,
     "metadata": {},
     "output_type": "execute_result"
    },
    {
     "data": {
      "image/png": "[encoded data removed]",
      "text/plain": [
       "<Figure size 1080x1080 with 1 Axes>"
      ]
     },
     "metadata": {
      "needs_background": "light"
     },
     "output_type": "display_data"
    }
   ],
   "source": [
    "fig, ax = plt.subplots(figsize=(15,15))\n",
    "ax.spy(model.matrix)\n",
    "ax.set_title('Sparsity'), ax.set_ylabel('Items'), ax.set_xlabel('Users')"
   ]
  },
  {
   "cell_type": "markdown",
   "metadata": {},
   "source": [
    "## Prevendo notas"
   ]
  },
  {
   "cell_type": "code",
   "execution_count": 26,
   "metadata": {},
   "outputs": [
    {
     "data": {
      "text/html": [
       "<div>\n",
       "<style scoped>\n",
       "    .dataframe tbody tr th:only-of-type {\n",
       "        vertical-align: middle;\n",
       "    }\n",
       "\n",
       "    .dataframe tbody tr th {\n",
       "        vertical-align: top;\n",
       "    }\n",
       "\n",
       "    .dataframe thead th {\n",
       "        text-align: right;\n",
       "    }\n",
       "</style>\n",
       "<table border=\"1\" class=\"dataframe\">\n",
       "  <thead>\n",
       "    <tr style=\"text-align: right;\">\n",
       "      <th></th>\n",
       "      <th>user</th>\n",
       "      <th>item</th>\n",
       "      <th>rating</th>\n",
       "    </tr>\n",
       "  </thead>\n",
       "  <tbody>\n",
       "    <tr>\n",
       "      <th>0</th>\n",
       "      <td>1</td>\n",
       "      <td>4</td>\n",
       "      <td>4.106428</td>\n",
       "    </tr>\n",
       "    <tr>\n",
       "      <th>1</th>\n",
       "      <td>1</td>\n",
       "      <td>13</td>\n",
       "      <td>4.258309</td>\n",
       "    </tr>\n",
       "    <tr>\n",
       "      <th>2</th>\n",
       "      <td>1</td>\n",
       "      <td>16</td>\n",
       "      <td>3.472239</td>\n",
       "    </tr>\n",
       "    <tr>\n",
       "      <th>3</th>\n",
       "      <td>1</td>\n",
       "      <td>19</td>\n",
       "      <td>3.662876</td>\n",
       "    </tr>\n",
       "    <tr>\n",
       "      <th>4</th>\n",
       "      <td>1</td>\n",
       "      <td>20</td>\n",
       "      <td>4.145067</td>\n",
       "    </tr>\n",
       "  </tbody>\n",
       "</table>\n",
       "</div>"
      ],
      "text/plain": [
       "   user  item    rating\n",
       "0     1     4  4.106428\n",
       "1     1    13  4.258309\n",
       "2     1    16  3.472239\n",
       "3     1    19  3.662876\n",
       "4     1    20  4.145067"
      ]
     },
     "execution_count": 26,
     "metadata": {},
     "output_type": "execute_result"
    }
   ],
   "source": [
    "df_predictions = pd.DataFrame(model.predictions, columns=['user', 'item', 'rating'])\n",
    "df_predictions.head()"
   ]
  },
  {
   "cell_type": "markdown",
   "metadata": {},
   "source": [
    "## Associando ID com Título"
   ]
  },
  {
   "cell_type": "code",
   "execution_count": 27,
   "metadata": {},
   "outputs": [
    {
     "data": {
      "text/html": [
       "<div>\n",
       "<style scoped>\n",
       "    .dataframe tbody tr th:only-of-type {\n",
       "        vertical-align: middle;\n",
       "    }\n",
       "\n",
       "    .dataframe tbody tr th {\n",
       "        vertical-align: top;\n",
       "    }\n",
       "\n",
       "    .dataframe thead th {\n",
       "        text-align: right;\n",
       "    }\n",
       "</style>\n",
       "<table border=\"1\" class=\"dataframe\">\n",
       "  <thead>\n",
       "    <tr style=\"text-align: right;\">\n",
       "      <th></th>\n",
       "      <th>user</th>\n",
       "      <th>item</th>\n",
       "      <th>rating</th>\n",
       "      <th>title</th>\n",
       "    </tr>\n",
       "  </thead>\n",
       "  <tbody>\n",
       "    <tr>\n",
       "      <th>0</th>\n",
       "      <td>1</td>\n",
       "      <td>4</td>\n",
       "      <td>4.106428</td>\n",
       "      <td>Copycat (1995)</td>\n",
       "    </tr>\n",
       "    <tr>\n",
       "      <th>1</th>\n",
       "      <td>1</td>\n",
       "      <td>13</td>\n",
       "      <td>4.258309</td>\n",
       "      <td>Postino, Il (1994)</td>\n",
       "    </tr>\n",
       "    <tr>\n",
       "      <th>2</th>\n",
       "      <td>1</td>\n",
       "      <td>16</td>\n",
       "      <td>3.472239</td>\n",
       "      <td>From Dusk Till Dawn (1996)</td>\n",
       "    </tr>\n",
       "    <tr>\n",
       "      <th>3</th>\n",
       "      <td>1</td>\n",
       "      <td>19</td>\n",
       "      <td>3.662876</td>\n",
       "      <td>Angels and Insects (1995)</td>\n",
       "    </tr>\n",
       "    <tr>\n",
       "      <th>4</th>\n",
       "      <td>1</td>\n",
       "      <td>20</td>\n",
       "      <td>4.145067</td>\n",
       "      <td>Muppet Treasure Island (1996)</td>\n",
       "    </tr>\n",
       "  </tbody>\n",
       "</table>\n",
       "</div>"
      ],
      "text/plain": [
       "   user  item    rating                          title\n",
       "0     1     4  4.106428                 Copycat (1995)\n",
       "1     1    13  4.258309             Postino, Il (1994)\n",
       "2     1    16  3.472239     From Dusk Till Dawn (1996)\n",
       "3     1    19  3.662876      Angels and Insects (1995)\n",
       "4     1    20  4.145067  Muppet Treasure Island (1996)"
      ]
     },
     "execution_count": 27,
     "metadata": {},
     "output_type": "execute_result"
    }
   ],
   "source": [
    "df_final = df_predictions.join(df_info, on='item', rsuffix='r').drop(['itemr'], axis=1)\n",
    "df_final.head()"
   ]
  },
  {
   "cell_type": "markdown",
   "metadata": {},
   "source": [
    "## Criando lista de recomendações Top-N"
   ]
  },
  {
   "cell_type": "code",
   "execution_count": 28,
   "metadata": {},
   "outputs": [
    {
     "data": {
      "text/html": [
       "<div>\n",
       "<style scoped>\n",
       "    .dataframe tbody tr th:only-of-type {\n",
       "        vertical-align: middle;\n",
       "    }\n",
       "\n",
       "    .dataframe tbody tr th {\n",
       "        vertical-align: top;\n",
       "    }\n",
       "\n",
       "    .dataframe thead th {\n",
       "        text-align: right;\n",
       "    }\n",
       "</style>\n",
       "<table border=\"1\" class=\"dataframe\">\n",
       "  <thead>\n",
       "    <tr style=\"text-align: right;\">\n",
       "      <th></th>\n",
       "      <th>user</th>\n",
       "      <th>item</th>\n",
       "      <th>rating</th>\n",
       "      <th>title</th>\n",
       "    </tr>\n",
       "  </thead>\n",
       "  <tbody>\n",
       "    <tr>\n",
       "      <th>909</th>\n",
       "      <td>21</td>\n",
       "      <td>443</td>\n",
       "      <td>4.816435</td>\n",
       "      <td>Blob, The (1958)</td>\n",
       "    </tr>\n",
       "    <tr>\n",
       "      <th>891</th>\n",
       "      <td>21</td>\n",
       "      <td>129</td>\n",
       "      <td>4.632550</td>\n",
       "      <td>Kansas City (1996)</td>\n",
       "    </tr>\n",
       "    <tr>\n",
       "      <th>889</th>\n",
       "      <td>21</td>\n",
       "      <td>100</td>\n",
       "      <td>4.456334</td>\n",
       "      <td>Heavy Metal (1981)</td>\n",
       "    </tr>\n",
       "    <tr>\n",
       "      <th>887</th>\n",
       "      <td>21</td>\n",
       "      <td>56</td>\n",
       "      <td>4.259501</td>\n",
       "      <td>Priest (1994)</td>\n",
       "    </tr>\n",
       "    <tr>\n",
       "      <th>895</th>\n",
       "      <td>21</td>\n",
       "      <td>234</td>\n",
       "      <td>4.089215</td>\n",
       "      <td>Mars Attacks! (1996)</td>\n",
       "    </tr>\n",
       "    <tr>\n",
       "      <th>892</th>\n",
       "      <td>21</td>\n",
       "      <td>164</td>\n",
       "      <td>4.025996</td>\n",
       "      <td>Jean de Florette (1986)</td>\n",
       "    </tr>\n",
       "    <tr>\n",
       "      <th>888</th>\n",
       "      <td>21</td>\n",
       "      <td>98</td>\n",
       "      <td>3.836821</td>\n",
       "      <td>Snow White and the Seven Dwarfs (1937)</td>\n",
       "    </tr>\n",
       "    <tr>\n",
       "      <th>917</th>\n",
       "      <td>21</td>\n",
       "      <td>675</td>\n",
       "      <td>3.807338</td>\n",
       "      <td>Crucible, The (1996)</td>\n",
       "    </tr>\n",
       "    <tr>\n",
       "      <th>893</th>\n",
       "      <td>21</td>\n",
       "      <td>219</td>\n",
       "      <td>3.789173</td>\n",
       "      <td>Mirror Has Two Faces, The (1996)</td>\n",
       "    </tr>\n",
       "    <tr>\n",
       "      <th>925</th>\n",
       "      <td>21</td>\n",
       "      <td>834</td>\n",
       "      <td>3.642938</td>\n",
       "      <td>Gay Divorcee, The (1934)</td>\n",
       "    </tr>\n",
       "  </tbody>\n",
       "</table>\n",
       "</div>"
      ],
      "text/plain": [
       "     user  item    rating                                   title\n",
       "909    21   443  4.816435                        Blob, The (1958)\n",
       "891    21   129  4.632550                      Kansas City (1996)\n",
       "889    21   100  4.456334                      Heavy Metal (1981)\n",
       "887    21    56  4.259501                           Priest (1994)\n",
       "895    21   234  4.089215                    Mars Attacks! (1996)\n",
       "892    21   164  4.025996                 Jean de Florette (1986)\n",
       "888    21    98  3.836821  Snow White and the Seven Dwarfs (1937)\n",
       "917    21   675  3.807338                    Crucible, The (1996)\n",
       "893    21   219  3.789173        Mirror Has Two Faces, The (1996)\n",
       "925    21   834  3.642938                Gay Divorcee, The (1934)"
      ]
     },
     "execution_count": 28,
     "metadata": {},
     "output_type": "execute_result"
    }
   ],
   "source": [
    "user = 21\n",
    "top_n = 10\n",
    "df_final[df_final.user == user].sort_values(['rating'], ascending=False).head(top_n)"
   ]
  }
 ],
 "metadata": {
  "kernelspec": {
   "display_name": "Python 3",
   "language": "python",
   "name": "python3"
  },
  "language_info": {
   "codemirror_mode": {
    "name": "ipython",
    "version": 3
   },
   "file_extension": ".py",
   "mimetype": "text/x-python",
   "name": "python",
   "nbconvert_exporter": "python",
   "pygments_lexer": "ipython3",
   "version": "3.7.3"
  }
 },
 "nbformat": 4,
 "nbformat_minor": 2
}
